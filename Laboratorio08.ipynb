{
  "nbformat": 4,
  "nbformat_minor": 0,
  "metadata": {
    "colab": {
      "name": "Laboratorio08.ipynb",
      "provenance": [],
      "collapsed_sections": [
        "jrI6q7RmWQam"
      ]
    },
    "kernelspec": {
      "name": "python3",
      "display_name": "Python 3"
    },
    "accelerator": "GPU"
  },
  "cells": [
    {
      "cell_type": "markdown",
      "metadata": {
        "id": "jrI6q7RmWQam",
        "colab_type": "text"
      },
      "source": [
        "<table align=\"center\">\n",
        "  <td align=\"center\"><a target=\"_blank\" href=\"http://introtodeeplearning.com\">\n",
        "        <img src=\"http://introtodeeplearning.com/images/colab/mit.png\" style=\"padding-bottom:5px;\" />\n",
        "      Visit MIT Deep Learning</a></td>\n",
        "  <td align=\"center\"><a target=\"_blank\" href=\"https://colab.research.google.com/github/aamini/introtodeeplearning/blob/master/lab3/RL.ipynb\">\n",
        "        <img src=\"http://introtodeeplearning.com/images/colab/colab.png?v2.0\"  style=\"padding-bottom:5px;\" />Run in Google Colab</a></td>\n",
        "  <td align=\"center\"><a target=\"_blank\" href=\"https://github.com/aamini/introtodeeplearning/blob/master/lab3/RL.ipynb\">\n",
        "        <img src=\"http://introtodeeplearning.com/images/colab/github.png\"  height=\"70px\" style=\"padding-bottom:5px;\"  />View Source on GitHub</a></td>\n",
        "</table>\n",
        "\n",
        "# Copyright Information"
      ]
    },
    {
      "cell_type": "code",
      "metadata": {
        "id": "wkd375upWYok",
        "colab_type": "code",
        "colab": {}
      },
      "source": [
        "# Copyright 2020 MIT 6.S191 Introduction to Deep Learning. All Rights Reserved.\n",
        "# \n",
        "# Licensed under the MIT License. You may not use this file except in compliance\n",
        "# with the License. Use and/or modification of this code outside of 6.S191 must\n",
        "# reference:\n",
        "#\n",
        "# © MIT 6.S191: Introduction to Deep Learning\n",
        "# http://introtodeeplearning.com\n",
        "#"
      ],
      "execution_count": 0,
      "outputs": []
    },
    {
      "cell_type": "markdown",
      "metadata": {
        "id": "WoXYKhfZMHiw",
        "colab_type": "text"
      },
      "source": [
        "# Laboratory 3: Reinforcement Learning\n",
        "\n",
        "Reinforcement learning (RL) is a subset of machine learning which poses learning problems as interactions between agents and environments. It often assumes agents have no prior knowledge of a world, so they must learn to navigate environments by optimizing a reward function. Within an environment, an agent can take certain actions and receive feedback, in the form of positive or negative rewards, with respect to their decision. As such, an agent's feedback loop is somewhat akin to the idea of \"trial and error\", or the manner in which a child might learn to distinguish between \"good\" and \"bad\" actions.\n",
        "\n",
        "In practical terms, our RL agent will interact with the environment by taking an action at each timestep, receiving a corresponding reward, and updating its state according to what it has \"learned\".  \n",
        "\n",
        "![alt text](https://www.kdnuggets.com/images/reinforcement-learning-fig1-700.jpg)\n",
        "\n",
        "While the ultimate goal of reinforcement learning is to teach agents to act in the real, physical world, games provide a convenient proving ground for developing RL algorithms and agents. Games have some properties that make them particularly well suited for RL: \n",
        "\n",
        "1.   In many cases, games have perfectly describable environments. For example, all rules of chess can be formally written and programmed into a chess game simulator;\n",
        "2.   Games are massively parallelizable. Since they do not require running in the real world, simultaneous environments can be run on large data clusters; \n",
        "3.   Simpler scenarios in games enable fast prototyping. This speeds up the development of algorithms that could eventually run in the real-world; and\n",
        "4.   ... Games are fun! \n",
        "\n",
        "In previous labs, we have explored both supervised (with LSTMs, CNNs) and unsupervised / semi-supervised (with VAEs) learning tasks. Reinforcement learning is fundamentally different, in that we are training a deep learning algorithm to govern the actions of our RL agent, that is trying, within its environment, to find the optimal way to achieve a goal. The goal of training an RL agent is to determine the best next step to take to earn the greatest final payoff or return. In this lab, we focus on building a reinforcement learning algorithm to master two different environments with varying complexity. \n",
        "\n",
        "1.   **Cartpole**:   Balance a pole, protruding from a cart, in an upright position by only moving the base left or right. Environment with a low-dimensional observation space.\n",
        "2.   [**Pong**](https://en.wikipedia.org/wiki/Pong): Beat your competitors (whether other AI or humans!) at the game of Pong. Environment with a high-dimensional observation space -- learning directly from raw pixels.\n",
        "\n",
        "Let's get started! First we'll import TensorFlow, the course package, and some dependencies.\n"
      ]
    },
    {
      "cell_type": "code",
      "metadata": {
        "id": "EvdePP-VyVWp",
        "colab_type": "code",
        "outputId": "151c7755-0820-40e2-ec70-25824cd4389d",
        "colab": {
          "base_uri": "https://localhost:8080/",
          "height": 369
        }
      },
      "source": [
        "!apt-get install -y xvfb python-opengl x11-utils > /dev/null 2>&1\n",
        "!pip install gym pyvirtualdisplay scikit-video > /dev/null 2>&1\n",
        "\n",
        "%tensorflow_version 2.x\n",
        "import tensorflow as tf\n",
        "\n",
        "import numpy as np\n",
        "import base64, io, time, gym\n",
        "import IPython, functools\n",
        "import matplotlib.pyplot as plt\n",
        "from tqdm import tqdm\n",
        "\n",
        "!pip install mitdeeplearning\n",
        "import mitdeeplearning as mdl"
      ],
      "execution_count": 2,
      "outputs": [
        {
          "output_type": "stream",
          "text": [
            "TensorFlow 2.x selected.\n",
            "Collecting mitdeeplearning\n",
            "\u001b[?25l  Downloading https://files.pythonhosted.org/packages/8b/3b/b9174b68dc10832356d02a2d83a64b43a24f1762c172754407d22fc8f960/mitdeeplearning-0.1.2.tar.gz (2.1MB)\n",
            "\u001b[K     |████████████████████████████████| 2.1MB 35.2MB/s \n",
            "\u001b[?25hRequirement already satisfied: numpy in /usr/local/lib/python3.6/dist-packages (from mitdeeplearning) (1.18.2)\n",
            "Requirement already satisfied: regex in /usr/local/lib/python3.6/dist-packages (from mitdeeplearning) (2019.12.20)\n",
            "Requirement already satisfied: tqdm in /usr/local/lib/python3.6/dist-packages (from mitdeeplearning) (4.38.0)\n",
            "Requirement already satisfied: gym in /usr/local/lib/python3.6/dist-packages (from mitdeeplearning) (0.17.1)\n",
            "Requirement already satisfied: six in /usr/local/lib/python3.6/dist-packages (from gym->mitdeeplearning) (1.12.0)\n",
            "Requirement already satisfied: cloudpickle<1.4.0,>=1.2.0 in /usr/local/lib/python3.6/dist-packages (from gym->mitdeeplearning) (1.3.0)\n",
            "Requirement already satisfied: pyglet<=1.5.0,>=1.4.0 in /usr/local/lib/python3.6/dist-packages (from gym->mitdeeplearning) (1.5.0)\n",
            "Requirement already satisfied: scipy in /usr/local/lib/python3.6/dist-packages (from gym->mitdeeplearning) (1.4.1)\n",
            "Requirement already satisfied: future in /usr/local/lib/python3.6/dist-packages (from pyglet<=1.5.0,>=1.4.0->gym->mitdeeplearning) (0.16.0)\n",
            "Building wheels for collected packages: mitdeeplearning\n",
            "  Building wheel for mitdeeplearning (setup.py) ... \u001b[?25l\u001b[?25hdone\n",
            "  Created wheel for mitdeeplearning: filename=mitdeeplearning-0.1.2-cp36-none-any.whl size=2114586 sha256=fde76b4c727bd813649a3349304ebd60d092094ae6dc4ce4c18b88d48179d380\n",
            "  Stored in directory: /root/.cache/pip/wheels/27/e1/73/5f01c787621d8a3c857f59876c79e304b9b64db9ff5bd61b74\n",
            "Successfully built mitdeeplearning\n",
            "Installing collected packages: mitdeeplearning\n",
            "Successfully installed mitdeeplearning-0.1.2\n"
          ],
          "name": "stdout"
        }
      ]
    },
    {
      "cell_type": "markdown",
      "metadata": {
        "id": "zmrHSiXKTXTY",
        "colab_type": "text"
      },
      "source": [
        "Before we dive in, let's take a step back and outline our approach, which is generally applicable to reinforcement learning problems in general:\n",
        "\n",
        "1. **Initialize our environment and our agent**: here we will describe the different observations and actions the agent can make in the environemnt.\n",
        "2. **Define our agent's memory**: this will enable the agent to remember its past actions, observations, and rewards.\n",
        "3. **Define a reward function**: describes the reward associated with an action or sequence of actions.\n",
        "4. **Define the learning algorithm**: this will be used to reinforce the agent's good behaviors and discourage bad behaviors.\n"
      ]
    },
    {
      "cell_type": "markdown",
      "metadata": {
        "id": "UT7YL8KBJIIc",
        "colab_type": "text"
      },
      "source": [
        "# Part 1: Cartpole\n",
        "\n",
        "## 3.1 Define the Cartpole environment and agent\n",
        "\n",
        "### Environment \n",
        "\n",
        "In order to model the environment for both the Cartpole and Pong tasks, we'll be using a toolkit developed by OpenAI called [OpenAI Gym](https://gym.openai.com/). It provides several pre-defined environments for training and testing reinforcement learning agents, including those for classic physics control tasks, Atari video games, and robotic simulations. To access the Cartpole environment, we can use `env = gym.make(\"CartPole-v0\")`, which we gained access to when we imported the `gym` package. We can instantiate different [environments](https://gym.openai.com/envs/#classic_control) by passing the enivronment name to the `make` function.\n",
        "\n",
        "One issue we might experience when developing RL algorithms is that many aspects of the learning process are inherently random: initializing game states, changes in the environment, and the agent's actions. As such, it can be helpful to set a initial \"seed\" for the environment to ensure some level of reproducibility. Much like you might use `numpy.random.seed`, we can call the comparable function in gym, `seed`, with our defined environment to ensure the environment's random variables are initialized the same each time."
      ]
    },
    {
      "cell_type": "code",
      "metadata": {
        "id": "quv9SC0iIYFm",
        "colab_type": "code",
        "outputId": "05193086-2949-49b6-d36d-da165a9dad33",
        "colab": {
          "base_uri": "https://localhost:8080/",
          "height": 35
        }
      },
      "source": [
        "### Instantiate the Cartpole environment ###\n",
        "\n",
        "env = gym.make(\"CartPole-v0\")\n",
        "env.seed(1)"
      ],
      "execution_count": 3,
      "outputs": [
        {
          "output_type": "execute_result",
          "data": {
            "text/plain": [
              "[1]"
            ]
          },
          "metadata": {
            "tags": []
          },
          "execution_count": 3
        }
      ]
    },
    {
      "cell_type": "markdown",
      "metadata": {
        "id": "mhEITUcKK455",
        "colab_type": "text"
      },
      "source": [
        "In Cartpole, a pole is attached by an un-actuated joint to a cart, which moves along a frictionless track. The pole starts upright, and the goal is to prevent it from falling over. The system is controlled by applying a force of +1 or -1 to the cart. A reward of +1 is provided for every timestep that the pole remains upright. The episode ends when the pole is more than 15 degrees from vertical, or the cart moves more than 2.4 units from the center of the track. A visual summary of the cartpole environment is depicted below:\n",
        "\n",
        "<img width=\"400px\" src=\"https://danielpiedrahita.files.wordpress.com/2017/02/cart-pole.png\"></img>\n",
        "\n",
        "Given this setup for the environment and the objective of the game, we can think about: 1) what observations help define the environment's state; 2) what actions the agent can take. \n",
        "\n",
        "First, let's consider the observation space. In this Cartpole environment our observations are:\n",
        "\n",
        "1. Cart position\n",
        "2. Cart velocity\n",
        "3. Pole angle\n",
        "4. Pole rotation rate\n",
        "\n",
        "We can confirm the size of the space by querying the environment's observation space:\n"
      ]
    },
    {
      "cell_type": "code",
      "metadata": {
        "id": "UVJaEcbdIX82",
        "colab_type": "code",
        "outputId": "87348c9f-cd84-4d9d-babe-16629b1f453b",
        "colab": {
          "base_uri": "https://localhost:8080/",
          "height": 35
        }
      },
      "source": [
        "n_observations = env.observation_space\n",
        "print(\"Environment has observation space =\", n_observations)"
      ],
      "execution_count": 4,
      "outputs": [
        {
          "output_type": "stream",
          "text": [
            "Environment has observation space = Box(4,)\n"
          ],
          "name": "stdout"
        }
      ]
    },
    {
      "cell_type": "markdown",
      "metadata": {
        "id": "ZibGgjrALgPM",
        "colab_type": "text"
      },
      "source": [
        "Second, we consider the action space. At every time step, the agent can move either right or left. Again we can confirm the size of the action space by querying the environment:"
      ]
    },
    {
      "cell_type": "code",
      "metadata": {
        "id": "qc9SIPxBIXrm",
        "colab_type": "code",
        "outputId": "9bd41e22-aa33-411e-ad1d-9d4488c293ac",
        "colab": {
          "base_uri": "https://localhost:8080/",
          "height": 35
        }
      },
      "source": [
        "n_actions = env.action_space.n\n",
        "print(\"Number of possible actions that the agent can choose from =\", n_actions)"
      ],
      "execution_count": 5,
      "outputs": [
        {
          "output_type": "stream",
          "text": [
            "Number of possible actions that the agent can choose from = 2\n"
          ],
          "name": "stdout"
        }
      ]
    },
    {
      "cell_type": "markdown",
      "metadata": {
        "id": "pPfHME8aRKkb",
        "colab_type": "text"
      },
      "source": [
        "### Cartpole agent\n",
        "\n",
        "Now that we have instantiated the environment and understood the dimensionality of the observation and action spaces, we are ready to define our agent. In deep reinforcement learning, a deep neural network defines the agent. This network will take as input an observation of the environment and output the probability of taking each of the possible actions. Since Cartpole is defined by a low-dimensional observation space, a simple feed-forward neural network should work well for our agent. We will define this using the `Sequential` API.\n"
      ]
    },
    {
      "cell_type": "code",
      "metadata": {
        "id": "W-o_XK4oQ4eu",
        "colab_type": "code",
        "colab": {}
      },
      "source": [
        "### Define the Cartpole agent ###\n",
        "\n",
        "# Defines a feed-forward neural network\n",
        "def create_cartpole_model():\n",
        "  model = tf.keras.models.Sequential([\n",
        "      # First Dense layer\n",
        "      tf.keras.layers.Dense(units=32, activation='relu'),\n",
        "\n",
        "      # TODO: Define the last Dense layer, which will provide the network's output.\n",
        "      # Think about the space the agent needs to act in!\n",
        "      #'''TODO: Dense layer to output action probabilities'''\n",
        "      tf.keras.layers.Dense(units=n_actions, activation=None)\n",
        "  ])\n",
        "  return model\n",
        "\n",
        "cartpole_model = create_cartpole_model()"
      ],
      "execution_count": 0,
      "outputs": []
    },
    {
      "cell_type": "markdown",
      "metadata": {
        "id": "d5D5NSIYS2IW",
        "colab_type": "text"
      },
      "source": [
        "Now that we have defined the core network architecture, we will define an *action function* that executes a forward pass through the network, given a set of observations, and samples from the output. This sampling from the output probabilities will be used to select the next action for the agent. \n",
        "\n",
        "**Critically, this action function is totally general -- we will use this function for both Cartpole and Pong, and it is applicable to other RL tasks, as well!**"
      ]
    },
    {
      "cell_type": "code",
      "metadata": {
        "id": "E_vVZRr8Q4R_",
        "colab_type": "code",
        "colab": {}
      },
      "source": [
        "### Define the agent's action function ###\n",
        "\n",
        "# Function that takes observations as input, executes a forward pass through model, \n",
        "#   and outputs a sampled action.\n",
        "# Arguments:\n",
        "#   model: the network that defines our agent\n",
        "#   observation: observation which is fed as input to the model\n",
        "# Returns:\n",
        "#   action: choice of agent action\n",
        "def choose_action(model, observation):\n",
        "  # add batch dimension to the observation\n",
        "  observation = np.expand_dims(observation, axis=0)\n",
        "\n",
        "  '''TODO: feed the observations through the model to predict the log probabilities of each possible action.'''\n",
        "  logits = model.predict(observation)\n",
        "  \n",
        "  # pass the log probabilities through a softmax to compute true probabilities\n",
        "  prob_weights = tf.nn.softmax(logits).numpy()\n",
        "  \n",
        "  '''TODO: randomly sample from the prob_weights to pick an action.\n",
        "  Hint: carefully consider the dimensionality of the input probabilities (vector) and the output action (scalar)'''\n",
        "  action = np.random.choice(n_actions, size=1, p=prob_weights.flatten())[0]\n",
        "\n",
        "  return action"
      ],
      "execution_count": 0,
      "outputs": []
    },
    {
      "cell_type": "markdown",
      "metadata": {
        "id": "_tR9uAWcTnkr",
        "colab_type": "text"
      },
      "source": [
        "## 3.2 Define the agent's memory\n",
        "\n",
        "Now that we have instantiated the environment and defined the agent network architecture and action function, we are ready to move on to the next step in our RL workflow:\n",
        "1. **Initialize our environment and our agent**: here we will describe the different observations and actions the agent can make in the environemnt.\n",
        "2. **Define our agent's memory**: this will enable the agent to remember its past actions, observations, and rewards.\n",
        "3. **Define the learning algorithm**: this will be used to reinforce the agent's good behaviors and discourage bad behaviors.\n",
        "\n",
        "In reinforcement learning, training occurs alongside the agent's acting in the environment; an *episode* refers to a sequence of actions that ends in some terminal state, such as the pole falling down or the cart crashing. The agent will need to remember all of its observations and actions, such that once an episode ends, it can learn to \"reinforce\" the good actions and punish the undesirable actions via training. Our first step is to define a simple memory buffer that contains the agent's observations, actions, and received rewards from a given episode. \n",
        "\n",
        "**Once again, note the modularity of this memory buffer -- it can and will be applied to other RL tasks as well!**"
      ]
    },
    {
      "cell_type": "code",
      "metadata": {
        "id": "8MM6JwXVQ4JG",
        "colab_type": "code",
        "colab": {}
      },
      "source": [
        "### Agent Memory ###\n",
        "\n",
        "class Memory:\n",
        "  def __init__(self): \n",
        "      self.clear()\n",
        "\n",
        "  # Resets/restarts the memory buffer\n",
        "  def clear(self): \n",
        "      self.observations = []\n",
        "      self.actions = []\n",
        "      self.rewards = []\n",
        "\n",
        "  # Add observations, actions, rewards to memory\n",
        "  def add_to_memory(self, new_observation, new_action, new_reward): \n",
        "      self.observations.append(new_observation)\n",
        "      '''TODO: update the list of actions with new action'''\n",
        "      self.actions.append(new_action) \n",
        "      '''TODO: update the list of rewards with new reward'''\n",
        "      self.rewards.append(new_reward)\n",
        "        \n",
        "memory = Memory()"
      ],
      "execution_count": 0,
      "outputs": []
    },
    {
      "cell_type": "markdown",
      "metadata": {
        "id": "D4YhtPaUVj5m",
        "colab_type": "text"
      },
      "source": [
        "## 3.3 Reward function\n",
        "\n",
        "We're almost ready to begin the learning algorithm for our agent! The next step is to compute the rewards of our agent as it acts in the environment. Since we (and the agent) is uncertain about if and when the game or task will end (i.e., when the pole will fall), it is useful to emphasize getting rewards **now** rather than later in the future -- this is the idea of discounting. This is a similar concept to discounting money in the case of interest. ecall from lecture, we use reward discount to give more preference at getting rewards now rather than later in the future. The idea of discounting rewards is similar to discounting money in the case of interest.\n",
        "\n",
        "To compute the expected cumulative reward, known as the **return**, at a given timestep in a learning episode, we sum the discounted rewards expected at that time step $t$, within a learning episode, and projecting into the future. We define the return (cumulative reward) at a time step $t$, $R_{t}$ as:\n",
        "\n",
        ">$R_{t}=\\sum_{k=0}^\\infty\\gamma^kr_{t+k}$\n",
        "\n",
        "where  $0 < \\gamma < 1$ is the discount factor and $r_{t}$ is the reward at time step $t$, and the index $k$ increments projection into the future within a single learning episode. Intuitively, you can think of this function as depreciating any rewards received at later time steps, which will force the agent prioritize getting rewards now. Since we can't extend episodes to infinity, in practice the computation will be limited to the number of timesteps in an episode -- after that the reward is assumed to be zero.\n",
        "\n",
        "Take note of the form of this sum -- we'll have to be clever about how we implement this function. Specifically, we'll need to initialize an array of zeros, with length of the number of time steps, and fill it with the real discounted reward values as we loop through the rewards from the episode, which will have been saved in the agents memory. What we ultimately care about is which actions are better relative to other actions taken in that episode -- so, we'll normalize our computed rewards, using the mean and standard deviation of the rewards across the learning episode.\n"
      ]
    },
    {
      "cell_type": "code",
      "metadata": {
        "id": "5_Q2OFYtQ32X",
        "colab_type": "code",
        "colab": {}
      },
      "source": [
        "### Reward function ###\n",
        "\n",
        "# Helper function that normalizes an np.array x\n",
        "def normalize(x):\n",
        "  x -= np.mean(x)\n",
        "  x /= np.std(x)\n",
        "  return x.astype(np.float32)\n",
        "\n",
        "# Compute normalized, discounted, cumulative rewards (i.e., return)\n",
        "# Arguments:\n",
        "#   rewards: reward at timesteps in episode\n",
        "#   gamma: discounting factor\n",
        "# Returns:\n",
        "#   normalized discounted reward\n",
        "def discount_rewards(rewards, gamma=0.95): \n",
        "  discounted_rewards = np.zeros_like(rewards)\n",
        "  R = 0\n",
        "  for t in reversed(range(0, len(rewards))):\n",
        "      # update the total discounted reward\n",
        "      R = R * gamma + rewards[t]\n",
        "      discounted_rewards[t] = R\n",
        "      \n",
        "  return normalize(discounted_rewards)"
      ],
      "execution_count": 0,
      "outputs": []
    },
    {
      "cell_type": "markdown",
      "metadata": {
        "id": "QzbY-mjGYcmt",
        "colab_type": "text"
      },
      "source": [
        "## 3.4 Learning algorithm\n",
        "\n",
        "Now we can start to define the learing algorithm which will be used to reinforce good behaviors of the agent and discourage bad behaviours. In this lab, we will focus on *policy gradient* methods which aim to **maximize** the likelihood of actions that result in large rewards. Equivalently, this means that we want to **minimize** the negative likelihood of these same actions. We achieve this by simply **scaling** the probabilities by their associated rewards -- effectively amplifying the likelihood of actions that resujlt in large rewards.\n",
        "\n",
        "Since the log function is monotonically increasing, this means that minimizing **negative likelihood** is equivalent to minimizing **negative log-likelihood**.  Recall that we can easily compute the negative log-likelihood of a discrete action by evaluting its [softmax cross entropy](https://www.tensorflow.org/api_docs/python/tf/nn/sparse_softmax_cross_entropy_with_logits). Like in supervised learning, we can use stochastic gradient descent methods to achieve the desired minimization. \n",
        "\n",
        "Let's begin by defining the loss function."
      ]
    },
    {
      "cell_type": "code",
      "metadata": {
        "id": "fsgZ3IDCY_Zn",
        "colab_type": "code",
        "colab": {}
      },
      "source": [
        "### Loss function ###\n",
        "\n",
        "# Arguments:\n",
        "#   logits: network's predictions for actions to take\n",
        "#   actions: the actions the agent took in an episode\n",
        "#   rewards: the rewards the agent received in an episode\n",
        "# Returns:\n",
        "#   loss\n",
        "def compute_loss(logits, actions, rewards): \n",
        "  '''TODO: complete the function call to compute the negative log probabilities'''\n",
        "  neg_logprob = tf.nn.sparse_softmax_cross_entropy_with_logits(logits=logits, labels=actions)\n",
        "  \n",
        "  '''TODO: scale the negative log probability by the rewards'''\n",
        "  loss = tf.reduce_mean(neg_logprob * rewards)\n",
        "  return loss"
      ],
      "execution_count": 0,
      "outputs": []
    },
    {
      "cell_type": "markdown",
      "metadata": {
        "id": "Rr5vQ9fqbPpp",
        "colab_type": "text"
      },
      "source": [
        "Now let's use the loss function to define a training step of our learning algorithm:"
      ]
    },
    {
      "cell_type": "code",
      "metadata": {
        "id": "_50ada7nbZ7L",
        "colab_type": "code",
        "colab": {}
      },
      "source": [
        "### Training step (forward and backpropagation) ###\n",
        "\n",
        "def train_step(model, optimizer, observations, actions, discounted_rewards):\n",
        "  with tf.GradientTape() as tape:\n",
        "      # Forward propagate through the agent network\n",
        "      logits = model(observations)\n",
        "\n",
        "      '''TODO: call the compute_loss function to compute the loss'''\n",
        "      loss = compute_loss(logits, actions, discounted_rewards)\n",
        "\n",
        "  '''TODO: run backpropagation to minimize the loss using the tape.gradient method.\n",
        "      Use `model.trainable_variables`'''\n",
        "  grads = tape.gradient(loss, model.trainable_variables)\n",
        "  optimizer.apply_gradients(zip(grads, model.trainable_variables))\n"
      ],
      "execution_count": 0,
      "outputs": []
    },
    {
      "cell_type": "markdown",
      "metadata": {
        "id": "XsjKXh6BcgjR",
        "colab_type": "text"
      },
      "source": [
        "## 3.5 Run cartpole!\n",
        "\n",
        "Having had no prior knowledge of the environment, the agent will begin to learn how to balance the pole on the cart based only on the feedback received from the environment! Having defined how our agent can move, how it takes in new observations, and how it updates its state, we'll see how it gradually learns a policy of actions to optimize balancing the pole as long as possible. To do this, we'll track how the rewards evolve as a function of training -- how should the rewards change as training progresses?"
      ]
    },
    {
      "cell_type": "code",
      "metadata": {
        "id": "XmOzc2rrcn8Q",
        "colab_type": "code",
        "outputId": "43dc0128-732a-49ac-c294-723c5c0dcfa9",
        "colab": {
          "base_uri": "https://localhost:8080/",
          "height": 541
        }
      },
      "source": [
        "### Cartpole training! ###\n",
        "\n",
        "# Learning rate and optimizer\n",
        "learning_rate = 1e-3\n",
        "optimizer = tf.keras.optimizers.Adam(learning_rate)\n",
        "\n",
        "# instantiate cartpole agent\n",
        "cartpole_model = create_cartpole_model()\n",
        "\n",
        "# to track our progress\n",
        "smoothed_reward = mdl.util.LossHistory(smoothing_factor=0.9)\n",
        "plotter = mdl.util.PeriodicPlotter(sec=2, xlabel='Iterations', ylabel='Rewards')\n",
        "\n",
        "if hasattr(tqdm, '_instances'): tqdm._instances.clear() # clear if it exists\n",
        "for i_episode in range(500):\n",
        "\n",
        "  plotter.plot(smoothed_reward.get())\n",
        "\n",
        "  # Restart the environment\n",
        "  observation = env.reset()\n",
        "  memory.clear()\n",
        "\n",
        "  while True:\n",
        "      # using our observation, choose an action and take it in the environment\n",
        "      action = choose_action(cartpole_model, observation)\n",
        "      next_observation, reward, done, info = env.step(action)\n",
        "      # add to memory\n",
        "      memory.add_to_memory(observation, action, reward)\n",
        "      \n",
        "      # is the episode over? did you crash or do so well that you're done?\n",
        "      if done:\n",
        "          # determine total reward and keep a record of this\n",
        "          total_reward = sum(memory.rewards)\n",
        "          smoothed_reward.append(total_reward)\n",
        "          \n",
        "          # initiate training - remember we don't know anything about how the \n",
        "          #   agent is doing until it has crashed!\n",
        "          train_step(cartpole_model, optimizer, \n",
        "                     observations=np.vstack(memory.observations),\n",
        "                     actions=np.array(memory.actions),\n",
        "                     discounted_rewards = discount_rewards(memory.rewards))\n",
        "          \n",
        "          # reset the memory\n",
        "          memory.clear()\n",
        "          break\n",
        "      # update our observatons\n",
        "      observation = next_observation"
      ],
      "execution_count": 12,
      "outputs": [
        {
          "output_type": "display_data",
          "data": {
            "image/png": "[encoded data removed]",
            "text/plain": [
              "<Figure size 432x288 with 1 Axes>"
            ]
          },
          "metadata": {
            "tags": []
          }
        },
        {
          "output_type": "display_data",
          "data": {
            "image/png": "[encoded data removed]",
            "text/plain": [
              "<Figure size 432x288 with 1 Axes>"
            ]
          },
          "metadata": {
            "tags": []
          }
        }
      ]
    },
    {
      "cell_type": "markdown",
      "metadata": {
        "id": "mkcUtGF1VE-K",
        "colab_type": "text"
      },
      "source": [
        "To get a sense of how our agent did, we can save a video of the trained model working on balancing the pole. Realize that this is a brand new environment that the agent has not seen before!\n",
        "\n",
        "Let's display the saved video to watch how our agent did!\n"
      ]
    },
    {
      "cell_type": "code",
      "metadata": {
        "id": "PAYBkv6Zbk0J",
        "colab_type": "code",
        "outputId": "527e9fc4-df96-4f64-f13e-36c96707cc64",
        "colab": {
          "base_uri": "https://localhost:8080/",
          "height": 438
        }
      },
      "source": [
        "saved_cartpole = mdl.lab3.save_video_of_model(cartpole_model, \"CartPole-v0\")\n",
        "mdl.lab3.play_video(saved_cartpole)"
      ],
      "execution_count": 13,
      "outputs": [
        {
          "output_type": "stream",
          "text": [
            "Successfully saved 200 frames into CartPole-v0.mp4!\n"
          ],
          "name": "stdout"
        },
        {
          "output_type": "execute_result",
          "data": {
            "text/html": [
              "\n",
              "        <video controls>\n",
              "            <source src=\"data:video/mp4;base64,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\" type=\"video/mp4\" />\n",
              "        </video>"
            ],
            "text/plain": [
              "<IPython.core.display.HTML object>"
            ]
          },
          "metadata": {
            "tags": []
          },
          "execution_count": 13
        }
      ]
    },
    {
      "cell_type": "markdown",
      "metadata": {
        "id": "CSbVNDpaVb3_",
        "colab_type": "text"
      },
      "source": [
        "How does the agent perform? Could you train it for shorter amounts of time and still perform well? Do you think that training longer would help even more? "
      ]
    },
    {
      "cell_type": "markdown",
      "metadata": {
        "id": "Eu6Mqxc720ST",
        "colab_type": "text"
      },
      "source": [
        "#Part 2: Pong\n",
        "\n",
        "In Cartpole, we dealt with an environment that was static -- in other words, it didn't change over time. What happens if our environment is dynamic and unpredictable? Well that's exactly the case in [Pong](https://en.wikipedia.org/wiki/Pong), since part of the environment is the opposing player. We don't know how our opponent will act or react to our actions, so the complexity of our problem increases. It also becomes much more interesting, since we can compete to beat our opponent. RL provides a powerful framework for training AI systems with the ability to handle and interact with dynamic, unpredictable environments. In this part of the lab, we'll use the tools and workflow we explored in Part 1 to build an RL agent capable of playing the game of Pong.\n"
      ]
    },
    {
      "cell_type": "markdown",
      "metadata": {
        "id": "srZ4YE29isuA",
        "colab_type": "text"
      },
      "source": [
        "## 3.6 Define and inspect the Pong environment\n",
        "\n",
        "As with Cartpole, we'll instantiate the Pong environment in the OpenAI gym, using a seed of 1."
      ]
    },
    {
      "cell_type": "code",
      "metadata": {
        "id": "lbYHLr66i15n",
        "colab_type": "code",
        "colab": {}
      },
      "source": [
        "env = gym.make(\"Pong-v0\", frameskip=5)\n",
        "env.seed(1); # for reproducibility"
      ],
      "execution_count": 0,
      "outputs": []
    },
    {
      "cell_type": "markdown",
      "metadata": {
        "id": "52uZ2Xhyi-MW",
        "colab_type": "text"
      },
      "source": [
        "Let's next consider the observation space for the Pong environment. Instead of four physical descriptors of the cart-pole setup, in the case of Pong our observations are the individual video frames (i.e., images) that depict the state of the board. Thus, the observations are 210x160 RGB images (arrays of shape (210,160,3)).\n",
        "\n",
        "We can again confirm the size of the observation space by query:"
      ]
    },
    {
      "cell_type": "code",
      "metadata": {
        "id": "0yX4GWvxjnHS",
        "colab_type": "code",
        "outputId": "923d7607-9860-434c-cfc1-eb94cf850d0a",
        "colab": {
          "base_uri": "https://localhost:8080/",
          "height": 35
        }
      },
      "source": [
        "print(\"Environment has observation space =\", env.observation_space)"
      ],
      "execution_count": 15,
      "outputs": [
        {
          "output_type": "stream",
          "text": [
            "Environment has observation space = Box(210, 160, 3)\n"
          ],
          "name": "stdout"
        }
      ]
    },
    {
      "cell_type": "markdown",
      "metadata": {
        "id": "uuEC2TdSjx9D",
        "colab_type": "text"
      },
      "source": [
        "In Pong, at every time step, the agent (which controls the paddle) has six actions to choose from: no-op (no operation), move right, move left, fire, fire right, and fire left. Let's confirm the size of the action space by querying the environment:"
      ]
    },
    {
      "cell_type": "code",
      "metadata": {
        "id": "Iuy9oPc1kag3",
        "colab_type": "code",
        "outputId": "a6bad756-4a60-4dc6-d084-befcf18619a2",
        "colab": {
          "base_uri": "https://localhost:8080/",
          "height": 35
        }
      },
      "source": [
        "n_actions = env.action_space.n\n",
        "print(\"Number of possible actions that the agent can choose from =\", n_actions)"
      ],
      "execution_count": 16,
      "outputs": [
        {
          "output_type": "stream",
          "text": [
            "Number of possible actions that the agent can choose from = 6\n"
          ],
          "name": "stdout"
        }
      ]
    },
    {
      "cell_type": "markdown",
      "metadata": {
        "id": "9-fghDRigUE5",
        "colab_type": "text"
      },
      "source": [
        "## 3.7 Define the Pong agent\n",
        "\n",
        "As before, we'll use a neural network to define our agent. What network architecture do you think would be especially well suited to this game? Since our observations are now in the form of images, we'll add convolutional layers to the network to increase the learning capacity of our network."
      ]
    },
    {
      "cell_type": "code",
      "metadata": {
        "id": "IJiqbFYpgYRH",
        "colab_type": "code",
        "colab": {}
      },
      "source": [
        "### Define the Pong agent ###\n",
        "\n",
        "# Functionally define layers for convenience\n",
        "# All convolutional layers will have ReLu activation\n",
        "Conv2D = functools.partial(tf.keras.layers.Conv2D, padding='same', activation='relu')\n",
        "Flatten = tf.keras.layers.Flatten\n",
        "Dense = tf.keras.layers.Dense\n",
        "\n",
        "# Defines a CNN for the Pong agent\n",
        "def create_pong_model():\n",
        "  model = tf.keras.models.Sequential([\n",
        "    # Convolutional layers\n",
        "    # First, 16 7x7 filters with 4x4 stride\n",
        "    Conv2D(filters=16, kernel_size=7, strides=4),\n",
        "\n",
        "    # TODO: define convolutional layers with 32 5x5 filters and 2x2 stride\n",
        "    Conv2D(filters=32, kernel_size=5, strides=2),\n",
        "\n",
        "    # TODO: define convolutional layers with 48 3x3 filters and 2x2 stride\n",
        "    Conv2D(filters=48, kernel_size=3, strides=2),\n",
        "\n",
        "    Flatten(),\n",
        "    \n",
        "    # Fully connected layer and output\n",
        "    Dense(units=64, activation='relu'),\n",
        "    # TODO: define the output dimension of the last Dense layer. \n",
        "    # Pay attention to the space the agent needs to act in\n",
        "    Dense(units=n_actions,activation=None)\n",
        "  \n",
        "  ])\n",
        "  return model\n",
        "\n",
        "pong_model = create_pong_model()"
      ],
      "execution_count": 0,
      "outputs": []
    },
    {
      "cell_type": "markdown",
      "metadata": {
        "id": "yaeZ067olFiJ",
        "colab_type": "text"
      },
      "source": [
        "Since we've already defined the action function, `choose_action(model, observation)`, we don't need to define it again. Instead, we'll be able to reuse it later on by passing in our new model we've just created, `pong_model`. This is awesome because our action function provides a modular and generalizable method for all sorts of RL agents!"
      ]
    },
    {
      "cell_type": "markdown",
      "metadata": {
        "id": "l0RvqOVkmc2r",
        "colab_type": "text"
      },
      "source": [
        "## 3.8 Pong-specific functions\n",
        "\n",
        "In Part 1 (Cartpole), we implemented some key functions and classes to build and train our RL agent -- `choose_action(model, observation)` and the `Memory` class, for example. However, in getting ready to apply these to a new game like Pong, we might need to make some slight modifications. \n",
        "\n",
        "Namely, we need to think about what happens when a game ends. In Pong, we know a game has ended if the reward is +1 (we won!) or -1 (we lost unfortunately). Otherwise, we expect the reward at a timestep to be zero -- the players (or agents) are just playing eachother. So, after a game ends, we will need to reset the reward to zero when a game ends. This will result in a modified reward function."
      ]
    },
    {
      "cell_type": "code",
      "metadata": {
        "id": "iEZG2o50luLu",
        "colab_type": "code",
        "colab": {}
      },
      "source": [
        "### Pong reward function ###\n",
        "\n",
        "# Compute normalized, discounted rewards for Pong (i.e., return)\n",
        "# Arguments:\n",
        "#   rewards: reward at timesteps in episode\n",
        "#   gamma: discounting factor. Note increase to 0.99 -- rate of depreciation will be slower.\n",
        "# Returns:\n",
        "#   normalized discounted reward\n",
        "def discount_rewards(rewards, gamma=0.99): \n",
        "  discounted_rewards = np.zeros_like(rewards)\n",
        "  R = 0\n",
        "  for t in reversed(range(0, len(rewards))):\n",
        "      # NEW: Reset the sum if the reward is not 0 (the game has ended!)\n",
        "      if rewards[t] != 0:\n",
        "        R = 0\n",
        "      # update the total discounted reward as before\n",
        "      R = R * gamma + rewards[t]\n",
        "      discounted_rewards[t] = R\n",
        "      \n",
        "  return normalize(discounted_rewards)"
      ],
      "execution_count": 0,
      "outputs": []
    },
    {
      "cell_type": "markdown",
      "metadata": {
        "id": "HopLpb4IoOqA",
        "colab_type": "text"
      },
      "source": [
        "Additionally, we have to consider the nature of the observations in the Pong environment, and how they will be fed into our network. Our observations in this case are images. Before we input an image into our network, we'll do a bit of pre-processing to crop and scale, clean up the background colors to a single color, and set the important game elements to a single color. Let's use this function to visualize what an observation might look like before and after pre-processing."
      ]
    },
    {
      "cell_type": "code",
      "metadata": {
        "id": "no5IIYtFm8pI",
        "colab_type": "code",
        "outputId": "80c1d724-bbe9-4872-88c3-ab746e94fc59",
        "colab": {
          "base_uri": "https://localhost:8080/",
          "height": 227
        }
      },
      "source": [
        "observation = env.reset()\n",
        "for i in range(30):\n",
        "  observation, _,_,_ = env.step(0)\n",
        "observation_pp = mdl.lab3.preprocess_pong(observation)\n",
        "\n",
        "f = plt.figure(figsize=(10,3))\n",
        "ax = f.add_subplot(121)\n",
        "ax2 = f.add_subplot(122)\n",
        "ax.imshow(observation); ax.grid(False);\n",
        "ax2.imshow(np.squeeze(observation_pp)); ax2.grid(False); plt.title('Preprocessed Observation');"
      ],
      "execution_count": 19,
      "outputs": [
        {
          "output_type": "display_data",
          "data": {
            "image/png": "[encoded data removed]",
            "text/plain": [
              "<Figure size 720x216 with 2 Axes>"
            ]
          },
          "metadata": {
            "tags": []
          }
        }
      ]
    },
    {
      "cell_type": "markdown",
      "metadata": {
        "id": "bYwIWC-Cz8F2",
        "colab_type": "text"
      },
      "source": [
        "What do you notice? How might these changes be important for training our RL algorithm?"
      ]
    },
    {
      "cell_type": "markdown",
      "metadata": {
        "id": "mRqcaDQ1pm3x",
        "colab_type": "text"
      },
      "source": [
        "## 3.9 Training Pong\n",
        "\n",
        "We're now all set up to start training our RL algorithm and agent for the game of Pong! We've already defined our loss function with `compute_loss`, which employs policy gradient learning, as well as our backpropagation step with `train_step` which is beautiful! We will use these functions to execute training the Pong agent. Let's walk through the training block.\n",
        "\n",
        "In Pong, rather than feeding our network one image at a time, it can actually improve performance to input the difference between two consecutive observations, which really gives us information about the movement between frames -- how the game is changing. We'll first pre-process the raw observation, `x`, and then we'll compute the difference with the image frame we saw one timestep before. \n",
        "\n",
        "This observation change will be forward propagated through our Pong agent, the CNN network model, which will then predict the next action to take based on this observation. The raw reward will be computed, and the observation, action, and reward will be recorded into memory. This will continue until a training episode, i.e., a game, ends.\n",
        "\n",
        "Then, we will compute the discounted rewards, and use this information to execute a training step. Memory will be cleared, and we will do it all over again!\n",
        "\n",
        "Let's run the code block to train our Pong agent. Note that completing training will take quite a bit of time (estimated at least a couple of hours). We will again visualize the evolution of the total reward as a function of training to get a sense of how the agent is learning."
      ]
    },
    {
      "cell_type": "code",
      "metadata": {
        "id": "xCwyQQrPnkZG",
        "colab_type": "code",
        "outputId": "164d67ec-5d42-4ff8-bba2-515d64d310c2",
        "colab": {
          "base_uri": "https://localhost:8080/",
          "height": 279
        }
      },
      "source": [
        "### Training Pong ###\n",
        "\n",
        "# Hyperparameters\n",
        "learning_rate=1e-4\n",
        "MAX_ITERS = 100 # increase the maximum number of episodes, since Pong is more complex!\n",
        "\n",
        "# Model and optimizer\n",
        "pong_model = create_pong_model()\n",
        "optimizer = tf.keras.optimizers.Adam(learning_rate)\n",
        "\n",
        "# plotting\n",
        "smoothed_reward = mdl.util.LossHistory(smoothing_factor=0.9)\n",
        "plotter = mdl.util.PeriodicPlotter(sec=5, xlabel='Iterations', ylabel='Rewards')\n",
        "memory = Memory()\n",
        "\n",
        "for i_episode in range(MAX_ITERS):\n",
        "\n",
        "  plotter.plot(smoothed_reward.get())\n",
        "\n",
        "  # Restart the environment\n",
        "  observation = env.reset()\n",
        "  previous_frame = mdl.lab3.preprocess_pong(observation)\n",
        "\n",
        "  while True:\n",
        "      # Pre-process image \n",
        "      current_frame = mdl.lab3.preprocess_pong(observation)\n",
        "      \n",
        "      '''TODO: determine the observation change\n",
        "      Hint: this is the difference between the past two frames'''\n",
        "      obs_change = current_frame-previous_frame\n",
        "      \n",
        "      '''TODO: choose an action for the pong model, using the frame difference, and evaluate'''\n",
        "      action =choose_action(pong_model,obs_change)\n",
        "      # Take the chosen action\n",
        "      next_observation, reward, done, info = env.step(action)\n",
        "\n",
        "      '''TODO: save the observed frame difference, the action that was taken, and the resulting reward!'''\n",
        "      memory.add_to_memory(obs_change,action,reward)\n",
        "      \n",
        "      # is the episode over? did you crash or do so well that you're done?\n",
        "      if done:\n",
        "          # determine total reward and keep a record of this\n",
        "          total_reward = sum(memory.rewards)\n",
        "          smoothed_reward.append( total_reward )\n",
        "\n",
        "          # begin training\n",
        "          train_step(pong_model, \n",
        "                     optimizer, \n",
        "                     observations = np.stack(memory.observations, 0), \n",
        "                     actions = np.array(memory.actions),\n",
        "                     discounted_rewards = discount_rewards(memory.rewards))\n",
        "          \n",
        "          memory.clear()\n",
        "          break\n",
        "\n",
        "      observation = next_observation\n",
        "      previous_frame = current_frame"
      ],
      "execution_count": 0,
      "outputs": [
        {
          "output_type": "display_data",
          "data": {
            "image/png": "[encoded data removed]",
            "text/plain": [
              "<Figure size 432x288 with 1 Axes>"
            ]
          },
          "metadata": {
            "tags": []
          }
        }
      ]
    },
    {
      "cell_type": "markdown",
      "metadata": {
        "id": "8LiEY5Y_ts-Z",
        "colab_type": "text"
      },
      "source": [
        "Finally we can put our trained agent to the test! It will play in a newly instantiated Pong environment against the \"computer\", a base AI system for Pong. Your agent plays as the green paddle. Let's watch the match instant replay!"
      ]
    },
    {
      "cell_type": "code",
      "metadata": {
        "id": "TvHXbkL0tR6M",
        "colab_type": "code",
        "colab": {
          "base_uri": "https://localhost:8080/",
          "height": 248
        },
        "outputId": "e5be24af-ea35-4823-ed48-d0182590d59b"
      },
      "source": [
        "saved_pong = mdl.lab3.save_video_of_model(\n",
        "    pong_model, \"Pong-v0\", obs_diff=True, \n",
        "    pp_fn=mdl.lab3.preprocess_pong)\n",
        "mdl.lab3.play_video(saved_pong)"
      ],
      "execution_count": 21,
      "outputs": [
        {
          "output_type": "stream",
          "text": [
            "Successfully saved 1010 frames into Pong-v0.mp4!\n"
          ],
          "name": "stdout"
        },
        {
          "output_type": "execute_result",
          "data": {
            "text/html": [
              "\n",
              "        <video controls>\n",
              "            <source src=\"data:video/mp4;base64,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\" type=\"video/mp4\" />\n",
              "        </video>"
            ],
            "text/plain": [
              "<IPython.core.display.HTML object>"
            ]
          },
          "metadata": {
            "tags": []
          },
          "execution_count": 21
        }
      ]
    },
    {
      "cell_type": "markdown",
      "metadata": {
        "id": "TIlwIgBP3Js6",
        "colab_type": "text"
      },
      "source": [
        "## 3.10 Conclusion\n",
        "\n",
        "That's it! Congratulations on training two RL agents and putting them to the test! We encourage you to consider the following:\n",
        "\n",
        "*   How does the agent perform?\n",
        "*   Could you train it for shorter amounts of time  and still perform well?\n",
        "*   Do you think that training longer would help even more? \n",
        "* How does the complexity of Pong relative to Cartpole alter the rate at which the agent learns and its performance? \n",
        "* What are some things you could change about the agent or the learning process to potentially improve performance?\n",
        "\n",
        "If you want to go further, try to optimize your model to achieve the best performance! **[Email us](mailto:introtodeeplearning-staff@mit.edu) a copy of your notebook with the Pong training executed AND a saved video of your Pong agent competing! We'll give out prizes to the best performers!**"
      ]
    }
  ]
}